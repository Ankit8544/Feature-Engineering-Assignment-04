{
 "cells": [
  {
   "cell_type": "markdown",
   "metadata": {},
   "source": [
    "Q.No-01    What is the difference between Ordinal Encoding and Label Encoding? Provide an example of when you might choose one over the other."
   ]
  },
  {
   "cell_type": "markdown",
   "metadata": {},
   "source": [
    "Ans :-"
   ]
  },
  {
   "cell_type": "markdown",
   "metadata": {},
   "source": [
    "**Ordinal encoding** and **label encoding** are both techniques used in machine learning and data preprocessing to convert categorical data into numerical form so that machine learning algorithms can work with them. However, they are used in different scenarios and have distinct characteristics."
   ]
  },
  {
   "cell_type": "markdown",
   "metadata": {},
   "source": [
    "1. **`Label Encoding` :-**\n",
    "\n",
    "   Label encoding is a simple technique where each unique category in a categorical variable is assigned an integer value. The assignment of these integer values is arbitrary and does not imply any inherent order or ranking of the categories. \n",
    "   \n",
    "   **For example :**\n",
    "\n",
    "   - Category \"Red\" might be encoded as 0.\n",
    "\n",
    "   - Category \"Green\" might be encoded as 1.\n",
    "   \n",
    "   - Category \"Blue\" might be encoded as 2.\n",
    "\n",
    "   Label encoding is typically used when there is no ordinal relationship between the categories. In other words, when the categories do not have a meaningful or logical order. For instance, when encoding categorical variables like \"Gender\" (e.g., Male, Female), \"Country\" (e.g., USA, Canada, India), or \"Vehicle Type\" (e.g., Sedan, SUV, Truck), label encoding can be used."
   ]
  },
  {
   "cell_type": "code",
   "execution_count": 218,
   "metadata": {},
   "outputs": [
    {
     "name": "stdout",
     "output_type": "stream",
     "text": [
      "Original Data :-\n"
     ]
    },
    {
     "data": {
      "text/html": [
       "<div>\n",
       "<style scoped>\n",
       "    .dataframe tbody tr th:only-of-type {\n",
       "        vertical-align: middle;\n",
       "    }\n",
       "\n",
       "    .dataframe tbody tr th {\n",
       "        vertical-align: top;\n",
       "    }\n",
       "\n",
       "    .dataframe thead th {\n",
       "        text-align: right;\n",
       "    }\n",
       "</style>\n",
       "<table border=\"1\" class=\"dataframe\">\n",
       "  <thead>\n",
       "    <tr style=\"text-align: right;\">\n",
       "      <th></th>\n",
       "      <th>Color</th>\n",
       "    </tr>\n",
       "  </thead>\n",
       "  <tbody>\n",
       "    <tr>\n",
       "      <th>0</th>\n",
       "      <td>Red</td>\n",
       "    </tr>\n",
       "    <tr>\n",
       "      <th>1</th>\n",
       "      <td>Green</td>\n",
       "    </tr>\n",
       "    <tr>\n",
       "      <th>2</th>\n",
       "      <td>Blue</td>\n",
       "    </tr>\n",
       "    <tr>\n",
       "      <th>3</th>\n",
       "      <td>Red</td>\n",
       "    </tr>\n",
       "    <tr>\n",
       "      <th>4</th>\n",
       "      <td>Green</td>\n",
       "    </tr>\n",
       "  </tbody>\n",
       "</table>\n",
       "</div>"
      ],
      "text/plain": [
       "   Color\n",
       "0    Red\n",
       "1  Green\n",
       "2   Blue\n",
       "3    Red\n",
       "4  Green"
      ]
     },
     "metadata": {},
     "output_type": "display_data"
    },
    {
     "name": "stdout",
     "output_type": "stream",
     "text": [
      "Label Encoding :-\n"
     ]
    },
    {
     "data": {
      "text/html": [
       "<div>\n",
       "<style scoped>\n",
       "    .dataframe tbody tr th:only-of-type {\n",
       "        vertical-align: middle;\n",
       "    }\n",
       "\n",
       "    .dataframe tbody tr th {\n",
       "        vertical-align: top;\n",
       "    }\n",
       "\n",
       "    .dataframe thead th {\n",
       "        text-align: right;\n",
       "    }\n",
       "</style>\n",
       "<table border=\"1\" class=\"dataframe\">\n",
       "  <thead>\n",
       "    <tr style=\"text-align: right;\">\n",
       "      <th></th>\n",
       "      <th>Color</th>\n",
       "      <th>ColorEncoded</th>\n",
       "    </tr>\n",
       "  </thead>\n",
       "  <tbody>\n",
       "    <tr>\n",
       "      <th>0</th>\n",
       "      <td>Red</td>\n",
       "      <td>2</td>\n",
       "    </tr>\n",
       "    <tr>\n",
       "      <th>1</th>\n",
       "      <td>Green</td>\n",
       "      <td>1</td>\n",
       "    </tr>\n",
       "    <tr>\n",
       "      <th>2</th>\n",
       "      <td>Blue</td>\n",
       "      <td>0</td>\n",
       "    </tr>\n",
       "    <tr>\n",
       "      <th>3</th>\n",
       "      <td>Red</td>\n",
       "      <td>2</td>\n",
       "    </tr>\n",
       "    <tr>\n",
       "      <th>4</th>\n",
       "      <td>Green</td>\n",
       "      <td>1</td>\n",
       "    </tr>\n",
       "  </tbody>\n",
       "</table>\n",
       "</div>"
      ],
      "text/plain": [
       "   Color  ColorEncoded\n",
       "0    Red             2\n",
       "1  Green             1\n",
       "2   Blue             0\n",
       "3    Red             2\n",
       "4  Green             1"
      ]
     },
     "metadata": {},
     "output_type": "display_data"
    }
   ],
   "source": [
    "# Import necessary libraries\n",
    "from sklearn.preprocessing import LabelEncoder\n",
    "import pandas as pd\n",
    "\n",
    "# Sample data\n",
    "data = {'Color': ['Red', 'Green', 'Blue', 'Red', 'Green']}\n",
    "\n",
    "# Create a DataFrame\n",
    "Q_No_01_df1 = pd.DataFrame(data)\n",
    "print(\"Original Data :-\")\n",
    "display(Q_No_01_df1)\n",
    "\n",
    "\n",
    "# Label Encoding\n",
    "label_encoder = LabelEncoder()\n",
    "Q_No_01_df1['ColorEncoded'] = label_encoder.fit_transform(Q_No_01_df1['Color'])\n",
    "\n",
    "# Display the DataFrame with label encoding\n",
    "print(\"Label Encoding :-\")\n",
    "display(Q_No_01_df1)\n"
   ]
  },
  {
   "cell_type": "markdown",
   "metadata": {},
   "source": [
    "2. **`Ordinal Encoding` :-**\n",
    "\n",
    "   Ordinal encoding is used when there is a clear ordinal or meaningful ranking relationship among the categories. In this approach, you assign numerical values to the categories based on their order or hierarchy.\n",
    "   \n",
    "   For example:\n",
    "\n",
    "   - Low might be encoded as 1.\n",
    "\n",
    "   - Medium might be encoded as 2.\n",
    "   \n",
    "   - High might be encoded as 3.\n",
    "\n",
    "   Ordinal encoding is suitable for categorical variables with inherent order or hierarchy, such as \"Education Level\" (e.g., High School, Bachelor's, Master's, Ph.D.), \"Temperature\" (e.g., Cold, Warm, Hot), or \"Income Level\" (e.g., Low, Medium, High)."
   ]
  },
  {
   "cell_type": "code",
   "execution_count": 219,
   "metadata": {},
   "outputs": [
    {
     "name": "stdout",
     "output_type": "stream",
     "text": [
      "Original Dataframe :-\n"
     ]
    },
    {
     "data": {
      "text/html": [
       "<div>\n",
       "<style scoped>\n",
       "    .dataframe tbody tr th:only-of-type {\n",
       "        vertical-align: middle;\n",
       "    }\n",
       "\n",
       "    .dataframe tbody tr th {\n",
       "        vertical-align: top;\n",
       "    }\n",
       "\n",
       "    .dataframe thead th {\n",
       "        text-align: right;\n",
       "    }\n",
       "</style>\n",
       "<table border=\"1\" class=\"dataframe\">\n",
       "  <thead>\n",
       "    <tr style=\"text-align: right;\">\n",
       "      <th></th>\n",
       "      <th>Education Level</th>\n",
       "    </tr>\n",
       "  </thead>\n",
       "  <tbody>\n",
       "    <tr>\n",
       "      <th>0</th>\n",
       "      <td>High School</td>\n",
       "    </tr>\n",
       "    <tr>\n",
       "      <th>1</th>\n",
       "      <td>Bachelor's</td>\n",
       "    </tr>\n",
       "    <tr>\n",
       "      <th>2</th>\n",
       "      <td>Master's</td>\n",
       "    </tr>\n",
       "    <tr>\n",
       "      <th>3</th>\n",
       "      <td>Ph.D.</td>\n",
       "    </tr>\n",
       "  </tbody>\n",
       "</table>\n",
       "</div>"
      ],
      "text/plain": [
       "  Education Level\n",
       "0     High School\n",
       "1      Bachelor's\n",
       "2        Master's\n",
       "3           Ph.D."
      ]
     },
     "metadata": {},
     "output_type": "display_data"
    },
    {
     "name": "stdout",
     "output_type": "stream",
     "text": [
      "Ordinal Encoding:\n"
     ]
    },
    {
     "data": {
      "text/html": [
       "<div>\n",
       "<style scoped>\n",
       "    .dataframe tbody tr th:only-of-type {\n",
       "        vertical-align: middle;\n",
       "    }\n",
       "\n",
       "    .dataframe tbody tr th {\n",
       "        vertical-align: top;\n",
       "    }\n",
       "\n",
       "    .dataframe thead th {\n",
       "        text-align: right;\n",
       "    }\n",
       "</style>\n",
       "<table border=\"1\" class=\"dataframe\">\n",
       "  <thead>\n",
       "    <tr style=\"text-align: right;\">\n",
       "      <th></th>\n",
       "      <th>Education Level</th>\n",
       "      <th>OrdinalEncoded</th>\n",
       "    </tr>\n",
       "  </thead>\n",
       "  <tbody>\n",
       "    <tr>\n",
       "      <th>0</th>\n",
       "      <td>High School</td>\n",
       "      <td>0.0</td>\n",
       "    </tr>\n",
       "    <tr>\n",
       "      <th>1</th>\n",
       "      <td>Bachelor's</td>\n",
       "      <td>1.0</td>\n",
       "    </tr>\n",
       "    <tr>\n",
       "      <th>2</th>\n",
       "      <td>Master's</td>\n",
       "      <td>2.0</td>\n",
       "    </tr>\n",
       "    <tr>\n",
       "      <th>3</th>\n",
       "      <td>Ph.D.</td>\n",
       "      <td>3.0</td>\n",
       "    </tr>\n",
       "  </tbody>\n",
       "</table>\n",
       "</div>"
      ],
      "text/plain": [
       "  Education Level  OrdinalEncoded\n",
       "0     High School             0.0\n",
       "1      Bachelor's             1.0\n",
       "2        Master's             2.0\n",
       "3           Ph.D.             3.0"
      ]
     },
     "metadata": {},
     "output_type": "display_data"
    }
   ],
   "source": [
    "# Import necessary libraries\n",
    "from sklearn.preprocessing import OrdinalEncoder\n",
    "import pandas as pd\n",
    "\n",
    "# Sample data\n",
    "data = {'Education Level': ['High School', 'Bachelor\\'s', 'Master\\'s', 'Ph.D.']}\n",
    "\n",
    "# Create a DataFrame\n",
    "Q_No_01_df2 = pd.DataFrame(data)\n",
    "print('Original Dataframe :-')  # Print the original dataframe\n",
    "display(Q_No_01_df2)\n",
    "\n",
    "# Define the ordinal mapping (order of education levels)\n",
    "ordinal_mapping = {\n",
    "    'High School': 1,\n",
    "    'Bachelor\\'s': 2,\n",
    "    'Master\\'s': 3,\n",
    "    'Ph.D.': 4\n",
    "}\n",
    "\n",
    "# Create an instance of OrdinalEncoder with the specified mapping\n",
    "ordinal_encoder = OrdinalEncoder(categories=[sorted(ordinal_mapping, key=lambda x: ordinal_mapping[x])])\n",
    "\n",
    "# Fit and transform the data using the ordinal encoder\n",
    "Q_No_01_df2['OrdinalEncoded'] = ordinal_encoder.fit_transform(Q_No_01_df2[['Education Level']])\n",
    "\n",
    "# Display the DataFrame with ordinal encoding\n",
    "print(\"Ordinal Encoding:\")\n",
    "display(Q_No_01_df2)\n"
   ]
  },
  {
   "cell_type": "markdown",
   "metadata": {},
   "source": [
    "**`Example of When to Choose One Over the Other` :-**\n",
    "\n",
    "- Imagine you are working on a machine learning project involving customer feedback ratings for a product, where customers can rate the product as \"Poor,\" \"Average,\" \"Good,\" or \"Excellent.\" In this case:\n",
    "\n",
    "    - **Label Encoding -** If you use label encoding for this ordinal variable, the model might interpret \"Poor\" as 0, \"Average\" as 1, \"Good\" as 2, and \"Excellent\" as 3. However, label encoding doesn't capture the meaningful order between the categories accurately.\n",
    "\n",
    "    - **Ordinal Encoding -** Ordinal encoding is a better choice in this scenario because it preserves the ordinal relationship between the ratings. You can assign values like \"Poor\" = 1, \"Average\" = 2, \"Good\" = 3, and \"Excellent\" = 4, which reflects the increasing quality of ratings."
   ]
  },
  {
   "cell_type": "code",
   "execution_count": 220,
   "metadata": {},
   "outputs": [
    {
     "name": "stdout",
     "output_type": "stream",
     "text": [
      "Original Data :-\n"
     ]
    },
    {
     "data": {
      "text/html": [
       "<div>\n",
       "<style scoped>\n",
       "    .dataframe tbody tr th:only-of-type {\n",
       "        vertical-align: middle;\n",
       "    }\n",
       "\n",
       "    .dataframe tbody tr th {\n",
       "        vertical-align: top;\n",
       "    }\n",
       "\n",
       "    .dataframe thead th {\n",
       "        text-align: right;\n",
       "    }\n",
       "</style>\n",
       "<table border=\"1\" class=\"dataframe\">\n",
       "  <thead>\n",
       "    <tr style=\"text-align: right;\">\n",
       "      <th></th>\n",
       "      <th>Feedback</th>\n",
       "    </tr>\n",
       "  </thead>\n",
       "  <tbody>\n",
       "    <tr>\n",
       "      <th>0</th>\n",
       "      <td>Poor</td>\n",
       "    </tr>\n",
       "    <tr>\n",
       "      <th>1</th>\n",
       "      <td>Average</td>\n",
       "    </tr>\n",
       "    <tr>\n",
       "      <th>2</th>\n",
       "      <td>Good</td>\n",
       "    </tr>\n",
       "    <tr>\n",
       "      <th>3</th>\n",
       "      <td>Excellent</td>\n",
       "    </tr>\n",
       "  </tbody>\n",
       "</table>\n",
       "</div>"
      ],
      "text/plain": [
       "    Feedback\n",
       "0       Poor\n",
       "1    Average\n",
       "2       Good\n",
       "3  Excellent"
      ]
     },
     "metadata": {},
     "output_type": "display_data"
    },
    {
     "name": "stdout",
     "output_type": "stream",
     "text": [
      "\tLabel Encoding & Ordinal Encoding\n"
     ]
    },
    {
     "data": {
      "text/html": [
       "<div>\n",
       "<style scoped>\n",
       "    .dataframe tbody tr th:only-of-type {\n",
       "        vertical-align: middle;\n",
       "    }\n",
       "\n",
       "    .dataframe tbody tr th {\n",
       "        vertical-align: top;\n",
       "    }\n",
       "\n",
       "    .dataframe thead th {\n",
       "        text-align: right;\n",
       "    }\n",
       "</style>\n",
       "<table border=\"1\" class=\"dataframe\">\n",
       "  <thead>\n",
       "    <tr style=\"text-align: right;\">\n",
       "      <th></th>\n",
       "      <th>Feedback</th>\n",
       "      <th>LabelEncoded</th>\n",
       "      <th>OrdinalEncoded</th>\n",
       "    </tr>\n",
       "  </thead>\n",
       "  <tbody>\n",
       "    <tr>\n",
       "      <th>0</th>\n",
       "      <td>Poor</td>\n",
       "      <td>3</td>\n",
       "      <td>1</td>\n",
       "    </tr>\n",
       "    <tr>\n",
       "      <th>1</th>\n",
       "      <td>Average</td>\n",
       "      <td>0</td>\n",
       "      <td>2</td>\n",
       "    </tr>\n",
       "    <tr>\n",
       "      <th>2</th>\n",
       "      <td>Good</td>\n",
       "      <td>2</td>\n",
       "      <td>3</td>\n",
       "    </tr>\n",
       "    <tr>\n",
       "      <th>3</th>\n",
       "      <td>Excellent</td>\n",
       "      <td>1</td>\n",
       "      <td>4</td>\n",
       "    </tr>\n",
       "  </tbody>\n",
       "</table>\n",
       "</div>"
      ],
      "text/plain": [
       "    Feedback  LabelEncoded  OrdinalEncoded\n",
       "0       Poor             3               1\n",
       "1    Average             0               2\n",
       "2       Good             2               3\n",
       "3  Excellent             1               4"
      ]
     },
     "metadata": {},
     "output_type": "display_data"
    }
   ],
   "source": [
    "# Import necessary libraries\n",
    "from sklearn.preprocessing import LabelEncoder\n",
    "import pandas as pd\n",
    "\n",
    "# Sample data\n",
    "data = {'Feedback': ['Poor', 'Average', 'Good', 'Excellent']}\n",
    "\n",
    "# Create a DataFrame\n",
    "Q_No_01_df3 = pd.DataFrame(data)\n",
    "print(\"Original Data :-\")\n",
    "display(Q_No_01_df3)\n",
    "\n",
    "# Label Encoding\n",
    "label_encoder = LabelEncoder()\n",
    "Q_No_01_df3['LabelEncoded'] = label_encoder.fit_transform(Q_No_01_df3['Feedback'])\n",
    "\n",
    "\n",
    "# Ordinal Encoding\n",
    "ordinal_mapping = {\n",
    "    'Poor': 1,\n",
    "    'Average': 2,\n",
    "    'Good': 3,\n",
    "    'Excellent': 4\n",
    "}\n",
    "Q_No_01_df3['OrdinalEncoded'] = Q_No_01_df3['Feedback'].map(ordinal_mapping)\n",
    "\n",
    "\n",
    "print(\"\\tLabel Encoding & Ordinal Encoding\")\n",
    "display(Q_No_01_df3)\n"
   ]
  },
  {
   "cell_type": "markdown",
   "metadata": {},
   "source": [
    "`In summary`, the choice between label encoding and ordinal encoding depends on whether there is an inherent order or ranking among the categories of the variable we are encoding. Use label encoding for nominal variables (no order), and use ordinal encoding for ordinal variables (with a clear order)."
   ]
  },
  {
   "cell_type": "markdown",
   "metadata": {},
   "source": [
    "---------------------------------------------------------------------------------------------------------------------------"
   ]
  },
  {
   "cell_type": "markdown",
   "metadata": {},
   "source": [
    "Q.No-02    Explain how Target Guided Ordinal Encoding works and provide an example of when you might use it in a machine learning project."
   ]
  },
  {
   "cell_type": "markdown",
   "metadata": {},
   "source": [
    "Ans :-"
   ]
  },
  {
   "cell_type": "markdown",
   "metadata": {},
   "source": [
    "**`Target Guided Ordinal Encoding` (TGOE)** is a feature encoding technique used in machine learning to convert categorical variables into numerical values, particularly in classification tasks. It is designed to capture the relationship between the categorical feature and the target variable by assigning ordinal values to the categories based on their statistical significance in predicting the target variable. TGOE is especially useful when dealing with categorical features with a large number of categories and when you believe there is an ordered relationship between the categories and the target variable."
   ]
  },
  {
   "cell_type": "markdown",
   "metadata": {},
   "source": [
    "**`Here's an example of when we might use TGOE in a machine learning project (In Python)` :-**"
   ]
  },
  {
   "cell_type": "markdown",
   "metadata": {},
   "source": [
    "**Scenario**: You are working on a customer churn prediction problem for a telecommunications company. One of the features in your dataset is \"Contract Type,\" which indicates whether a customer has a month-to-month contract, a one-year contract, or a two-year contract. You believe that the contract type is related to the likelihood of churn, with longer-term contracts being less likely to churn."
   ]
  },
  {
   "cell_type": "code",
   "execution_count": 221,
   "metadata": {},
   "outputs": [
    {
     "name": "stdout",
     "output_type": "stream",
     "text": [
      "Original Dataframe :-\n"
     ]
    },
    {
     "data": {
      "text/html": [
       "<div>\n",
       "<style scoped>\n",
       "    .dataframe tbody tr th:only-of-type {\n",
       "        vertical-align: middle;\n",
       "    }\n",
       "\n",
       "    .dataframe tbody tr th {\n",
       "        vertical-align: top;\n",
       "    }\n",
       "\n",
       "    .dataframe thead th {\n",
       "        text-align: right;\n",
       "    }\n",
       "</style>\n",
       "<table border=\"1\" class=\"dataframe\">\n",
       "  <thead>\n",
       "    <tr style=\"text-align: right;\">\n",
       "      <th></th>\n",
       "      <th>CustomerID</th>\n",
       "      <th>Contract_Type</th>\n",
       "      <th>Churn</th>\n",
       "    </tr>\n",
       "  </thead>\n",
       "  <tbody>\n",
       "    <tr>\n",
       "      <th>0</th>\n",
       "      <td>1</td>\n",
       "      <td>Month-to-month</td>\n",
       "      <td>1</td>\n",
       "    </tr>\n",
       "    <tr>\n",
       "      <th>1</th>\n",
       "      <td>2</td>\n",
       "      <td>One-year</td>\n",
       "      <td>0</td>\n",
       "    </tr>\n",
       "    <tr>\n",
       "      <th>2</th>\n",
       "      <td>3</td>\n",
       "      <td>Month-to-month</td>\n",
       "      <td>1</td>\n",
       "    </tr>\n",
       "    <tr>\n",
       "      <th>3</th>\n",
       "      <td>4</td>\n",
       "      <td>Two-year</td>\n",
       "      <td>0</td>\n",
       "    </tr>\n",
       "    <tr>\n",
       "      <th>4</th>\n",
       "      <td>5</td>\n",
       "      <td>One-year</td>\n",
       "      <td>0</td>\n",
       "    </tr>\n",
       "  </tbody>\n",
       "</table>\n",
       "</div>"
      ],
      "text/plain": [
       "   CustomerID   Contract_Type  Churn\n",
       "0           1  Month-to-month      1\n",
       "1           2        One-year      0\n",
       "2           3  Month-to-month      1\n",
       "3           4        Two-year      0\n",
       "4           5        One-year      0"
      ]
     },
     "metadata": {},
     "output_type": "display_data"
    },
    {
     "name": "stdout",
     "output_type": "stream",
     "text": [
      "\n",
      "DataFrame with encoded Contract_Type :-\n"
     ]
    },
    {
     "data": {
      "text/html": [
       "<div>\n",
       "<style scoped>\n",
       "    .dataframe tbody tr th:only-of-type {\n",
       "        vertical-align: middle;\n",
       "    }\n",
       "\n",
       "    .dataframe tbody tr th {\n",
       "        vertical-align: top;\n",
       "    }\n",
       "\n",
       "    .dataframe thead th {\n",
       "        text-align: right;\n",
       "    }\n",
       "</style>\n",
       "<table border=\"1\" class=\"dataframe\">\n",
       "  <thead>\n",
       "    <tr style=\"text-align: right;\">\n",
       "      <th></th>\n",
       "      <th>CustomerID</th>\n",
       "      <th>Contract_Type</th>\n",
       "      <th>Churn</th>\n",
       "      <th>Contract_Type_Encoded</th>\n",
       "    </tr>\n",
       "  </thead>\n",
       "  <tbody>\n",
       "    <tr>\n",
       "      <th>0</th>\n",
       "      <td>1</td>\n",
       "      <td>Month-to-month</td>\n",
       "      <td>1</td>\n",
       "      <td>3.0</td>\n",
       "    </tr>\n",
       "    <tr>\n",
       "      <th>1</th>\n",
       "      <td>2</td>\n",
       "      <td>One-year</td>\n",
       "      <td>0</td>\n",
       "      <td>1.5</td>\n",
       "    </tr>\n",
       "    <tr>\n",
       "      <th>2</th>\n",
       "      <td>3</td>\n",
       "      <td>Month-to-month</td>\n",
       "      <td>1</td>\n",
       "      <td>3.0</td>\n",
       "    </tr>\n",
       "    <tr>\n",
       "      <th>3</th>\n",
       "      <td>4</td>\n",
       "      <td>Two-year</td>\n",
       "      <td>0</td>\n",
       "      <td>1.5</td>\n",
       "    </tr>\n",
       "    <tr>\n",
       "      <th>4</th>\n",
       "      <td>5</td>\n",
       "      <td>One-year</td>\n",
       "      <td>0</td>\n",
       "      <td>1.5</td>\n",
       "    </tr>\n",
       "  </tbody>\n",
       "</table>\n",
       "</div>"
      ],
      "text/plain": [
       "   CustomerID   Contract_Type  Churn  Contract_Type_Encoded\n",
       "0           1  Month-to-month      1                    3.0\n",
       "1           2        One-year      0                    1.5\n",
       "2           3  Month-to-month      1                    3.0\n",
       "3           4        Two-year      0                    1.5\n",
       "4           5        One-year      0                    1.5"
      ]
     },
     "metadata": {},
     "output_type": "display_data"
    }
   ],
   "source": [
    "import pandas as pd\n",
    "\n",
    "# Sample data\n",
    "data = {\n",
    "    'CustomerID': [1, 2, 3, 4, 5],\n",
    "    'Contract_Type': ['Month-to-month', 'One-year', 'Month-to-month', 'Two-year', 'One-year'],\n",
    "    'Churn': [1, 0, 1, 0, 0]  # 1 for churn, 0 for no churn\n",
    "}\n",
    "\n",
    "# Create a DataFrame\n",
    "Q_No_02_df = pd.DataFrame(data)\n",
    "print('Original Dataframe :-')\n",
    "display(Q_No_02_df)\n",
    "\n",
    "# Calculate the average churn rate for each contract type\n",
    "contract_churn_means = Q_No_02_df.groupby('Contract_Type')['Churn'].mean().reset_index()\n",
    "\n",
    "# Rank the contract types based on churn rate in ascending order\n",
    "contract_churn_means['Rank'] = contract_churn_means['Churn'].rank(ascending=True)\n",
    "\n",
    "# Create a mapping dictionary for encoding\n",
    "ordinal_encoding_dict = dict(zip(contract_churn_means['Contract_Type'], contract_churn_means['Rank']))\n",
    "\n",
    "# Apply the encoding to the DataFrame\n",
    "Q_No_02_df['Contract_Type_Encoded'] = Q_No_02_df['Contract_Type'].map(ordinal_encoding_dict)\n",
    "\n",
    "# Display the DataFrame with encoded Contract_Type\n",
    "print('\\nDataFrame with encoded Contract_Type :-')\n",
    "display(Q_No_02_df)\n"
   ]
  },
  {
   "cell_type": "markdown",
   "metadata": {},
   "source": [
    "Now, the \"Contract Type\" feature has been encoded using Target Guided Ordinal Encoding, capturing the relationship between contract type and churn probability. This can help our machine learning model learn the ordinality in contract types and potentially improve its predictive performance in the customer churn prediction task."
   ]
  },
  {
   "cell_type": "markdown",
   "metadata": {},
   "source": [
    "------------------------------------------------------------------------------------------------------------------------------------------------"
   ]
  },
  {
   "cell_type": "markdown",
   "metadata": {},
   "source": [
    "Q.No-03    Define covariance and explain why it is important in statistical analysis. How is covariance calculated?"
   ]
  },
  {
   "cell_type": "markdown",
   "metadata": {},
   "source": [
    "Ans :-"
   ]
  },
  {
   "cell_type": "markdown",
   "metadata": {},
   "source": [
    "Covariance is a statistical measure that quantifies the degree to which two random variables change together. In other words, it measures the relationship between two variables, indicating whether they tend to increase or decrease simultaneously."
   ]
  },
  {
   "cell_type": "markdown",
   "metadata": {},
   "source": [
    "**`It's a crucial concept in statistical analysis and data science for several reasons` :-**"
   ]
  },
  {
   "cell_type": "markdown",
   "metadata": {},
   "source": [
    "1. **Relationship Assessment:** Covariance helps us understand the direction of the relationship between two variables. A positive covariance indicates that as one variable increases, the other tends to increase as well, while a negative covariance suggests that as one variable increases, the other tends to decrease."
   ]
  },
  {
   "cell_type": "markdown",
   "metadata": {},
   "source": [
    "2. **Strength of Association:** The magnitude of the covariance value signifies the strength of the relationship. A large covariance, either positive or negative, indicates a strong association, while a small or close-to-zero covariance suggests a weak or no association."
   ]
  },
  {
   "cell_type": "markdown",
   "metadata": {},
   "source": [
    "3. **Useful in Portfolio Management:** In finance, covariance is essential for managing investment portfolios. It helps investors assess how the returns of different assets move in relation to each other, aiding in the diversification of investments to reduce risk."
   ]
  },
  {
   "cell_type": "markdown",
   "metadata": {},
   "source": [
    "4. **Risk Assessment:** In risk analysis, covariance is used to assess how changes in one variable (e.g., interest rates) might affect another variable (e.g., stock prices). It's crucial for understanding and managing various types of risks."
   ]
  },
  {
   "cell_type": "markdown",
   "metadata": {},
   "source": [
    "**Covariance is calculated using the following formula :-**\n",
    "\n",
    "$$\n",
    "\\text{Cov}(X, Y) = \\frac{\\sum_{i=1}^{n}(X_i - \\bar{X})(Y_i - \\bar{Y})}{n-1}\n",
    "$$"
   ]
  },
  {
   "cell_type": "markdown",
   "metadata": {},
   "source": [
    "**Where :-**\n",
    "\n",
    "- $\\text{Cov}(X, Y)$ is the covariance between variables X and Y.\n",
    "\n",
    "- $X_i$ and $Y_i$ are individual data points for X and Y, respectively.\n",
    "\n",
    "- $\\bar{X}$ and $\\bar{Y}$ are the means (average) of X and Y, respectively.\n",
    "\n",
    "- $n$ is the number of data points in the dataset."
   ]
  },
  {
   "cell_type": "markdown",
   "metadata": {},
   "source": [
    "**Here's a step-by-step explanation of the calculation :-**\n",
    "\n",
    "1. Calculate the mean ($\\bar{X}$) of variable X and the mean ($\\bar{Y}$) of variable Y.\n",
    "\n",
    "2. For each data point, subtract the mean of $X$ from the data point ($X_i - \\bar{X}$) and subtract the mean of $Y$ from the corresponding data point ($Y_i - \\bar{Y}$).\n",
    "\n",
    "3. Multiply these differences for each pair of data points.\n",
    "\n",
    "4. Sum up all these products.\n",
    "\n",
    "5. Finally, divide the sum by $n-1$ (n minus 1), which is known as Bessel's correction. This correction factor is used to make the covariance estimator unbiased when dealing with a sample of data rather than an entire population."
   ]
  },
  {
   "cell_type": "markdown",
   "metadata": {},
   "source": [
    "The result will be the covariance between the two variables. The sign of the covariance indicates the direction of the relationship (positive or negative), and the magnitude represents the strength of the relationship."
   ]
  },
  {
   "cell_type": "markdown",
   "metadata": {},
   "source": [
    "---------------------------------------------------------------------------------------------------------------------------"
   ]
  },
  {
   "cell_type": "markdown",
   "metadata": {},
   "source": [
    "Q.No-04    For a dataset with the following categorical variables: Color (red, green, blue), Size (small, medium, large), and Material (wood, metal, plastic), perform label encoding using Python's scikit-learn library. Show your code and explain the output."
   ]
  },
  {
   "cell_type": "markdown",
   "metadata": {},
   "source": [
    "Ans :-"
   ]
  },
  {
   "cell_type": "code",
   "execution_count": 222,
   "metadata": {},
   "outputs": [
    {
     "name": "stdout",
     "output_type": "stream",
     "text": [
      "Data Frame of Categorical Variables :-\n"
     ]
    },
    {
     "data": {
      "text/html": [
       "<div>\n",
       "<style scoped>\n",
       "    .dataframe tbody tr th:only-of-type {\n",
       "        vertical-align: middle;\n",
       "    }\n",
       "\n",
       "    .dataframe tbody tr th {\n",
       "        vertical-align: top;\n",
       "    }\n",
       "\n",
       "    .dataframe thead th {\n",
       "        text-align: right;\n",
       "    }\n",
       "</style>\n",
       "<table border=\"1\" class=\"dataframe\">\n",
       "  <thead>\n",
       "    <tr style=\"text-align: right;\">\n",
       "      <th></th>\n",
       "      <th>colors</th>\n",
       "      <th>sizes</th>\n",
       "      <th>materials</th>\n",
       "    </tr>\n",
       "  </thead>\n",
       "  <tbody>\n",
       "    <tr>\n",
       "      <th>0</th>\n",
       "      <td>red</td>\n",
       "      <td>medium</td>\n",
       "      <td>wood</td>\n",
       "    </tr>\n",
       "    <tr>\n",
       "      <th>1</th>\n",
       "      <td>green</td>\n",
       "      <td>small</td>\n",
       "      <td>metal</td>\n",
       "    </tr>\n",
       "    <tr>\n",
       "      <th>2</th>\n",
       "      <td>blue</td>\n",
       "      <td>large</td>\n",
       "      <td>plastic</td>\n",
       "    </tr>\n",
       "    <tr>\n",
       "      <th>3</th>\n",
       "      <td>green</td>\n",
       "      <td>medium</td>\n",
       "      <td>metal</td>\n",
       "    </tr>\n",
       "    <tr>\n",
       "      <th>4</th>\n",
       "      <td>red</td>\n",
       "      <td>small</td>\n",
       "      <td>wood</td>\n",
       "    </tr>\n",
       "  </tbody>\n",
       "</table>\n",
       "</div>"
      ],
      "text/plain": [
       "  colors   sizes materials\n",
       "0    red  medium      wood\n",
       "1  green   small     metal\n",
       "2   blue   large   plastic\n",
       "3  green  medium     metal\n",
       "4    red   small      wood"
      ]
     },
     "metadata": {},
     "output_type": "display_data"
    },
    {
     "name": "stdout",
     "output_type": "stream",
     "text": [
      "Data Frame of Categorical Variables After Applying Label Encoder :-\n"
     ]
    },
    {
     "data": {
      "text/html": [
       "<div>\n",
       "<style scoped>\n",
       "    .dataframe tbody tr th:only-of-type {\n",
       "        vertical-align: middle;\n",
       "    }\n",
       "\n",
       "    .dataframe tbody tr th {\n",
       "        vertical-align: top;\n",
       "    }\n",
       "\n",
       "    .dataframe thead th {\n",
       "        text-align: right;\n",
       "    }\n",
       "</style>\n",
       "<table border=\"1\" class=\"dataframe\">\n",
       "  <thead>\n",
       "    <tr style=\"text-align: right;\">\n",
       "      <th></th>\n",
       "      <th>colors</th>\n",
       "      <th>sizes</th>\n",
       "      <th>materials</th>\n",
       "      <th>encoded_colors</th>\n",
       "      <th>encoded_sizes</th>\n",
       "      <th>encoded_materials</th>\n",
       "    </tr>\n",
       "  </thead>\n",
       "  <tbody>\n",
       "    <tr>\n",
       "      <th>0</th>\n",
       "      <td>red</td>\n",
       "      <td>medium</td>\n",
       "      <td>wood</td>\n",
       "      <td>2</td>\n",
       "      <td>1</td>\n",
       "      <td>2</td>\n",
       "    </tr>\n",
       "    <tr>\n",
       "      <th>1</th>\n",
       "      <td>green</td>\n",
       "      <td>small</td>\n",
       "      <td>metal</td>\n",
       "      <td>1</td>\n",
       "      <td>2</td>\n",
       "      <td>0</td>\n",
       "    </tr>\n",
       "    <tr>\n",
       "      <th>2</th>\n",
       "      <td>blue</td>\n",
       "      <td>large</td>\n",
       "      <td>plastic</td>\n",
       "      <td>0</td>\n",
       "      <td>0</td>\n",
       "      <td>1</td>\n",
       "    </tr>\n",
       "    <tr>\n",
       "      <th>3</th>\n",
       "      <td>green</td>\n",
       "      <td>medium</td>\n",
       "      <td>metal</td>\n",
       "      <td>1</td>\n",
       "      <td>1</td>\n",
       "      <td>0</td>\n",
       "    </tr>\n",
       "    <tr>\n",
       "      <th>4</th>\n",
       "      <td>red</td>\n",
       "      <td>small</td>\n",
       "      <td>wood</td>\n",
       "      <td>2</td>\n",
       "      <td>2</td>\n",
       "      <td>2</td>\n",
       "    </tr>\n",
       "  </tbody>\n",
       "</table>\n",
       "</div>"
      ],
      "text/plain": [
       "  colors   sizes materials  encoded_colors  encoded_sizes  encoded_materials\n",
       "0    red  medium      wood               2              1                  2\n",
       "1  green   small     metal               1              2                  0\n",
       "2   blue   large   plastic               0              0                  1\n",
       "3  green  medium     metal               1              1                  0\n",
       "4    red   small      wood               2              2                  2"
      ]
     },
     "metadata": {},
     "output_type": "display_data"
    }
   ],
   "source": [
    "from sklearn.preprocessing import LabelEncoder\n",
    "import pandas as pd \n",
    "\n",
    "# Sample data for the categorical variables\n",
    "Categorical_Variables = {'colors': ['red', 'green', 'blue', 'green', 'red'],\n",
    "                         'sizes': ['medium', 'small', 'large', 'medium', 'small'],\n",
    "                         'materials': ['wood', 'metal', 'plastic', 'metal', 'wood']\n",
    "                         }\n",
    "\n",
    "Q_No_04_df = pd.DataFrame(Categorical_Variables)  # Create a dataframe with sample values of Categorical Variables\n",
    "print(\"Data Frame of Categorical Variables :-\")\n",
    "display(Q_No_04_df)\n",
    "\n",
    "\n",
    "# Initialize label encoders for each categorical variable\n",
    "color_encoder = LabelEncoder()\n",
    "size_encoder = LabelEncoder()\n",
    "material_encoder = LabelEncoder()\n",
    "\n",
    "Q_No_04_df['encoded_colors'] = color_encoder.fit_transform(Q_No_04_df['colors'])\n",
    "Q_No_04_df['encoded_sizes'] = size_encoder.fit_transform(Q_No_04_df['sizes'])\n",
    "Q_No_04_df['encoded_materials'] = material_encoder.fit_transform(Q_No_04_df['materials'])\n",
    "\n",
    "\n",
    "print(\"Data Frame of Categorical Variables After Applying Label Encoder :-\")\n",
    "display(Q_No_04_df)"
   ]
  },
  {
   "cell_type": "markdown",
   "metadata": {},
   "source": [
    "---------------------------------------------------------------------------------------------------------------------------"
   ]
  },
  {
   "cell_type": "markdown",
   "metadata": {},
   "source": [
    "Q.No-05    Calculate the covariance matrix for the following variables in a dataset: Age, Income, and Education level. Interpret the results."
   ]
  },
  {
   "cell_type": "markdown",
   "metadata": {},
   "source": [
    "Ans :-"
   ]
  },
  {
   "cell_type": "markdown",
   "metadata": {},
   "source": [
    "**To calculate the covariance matrix for the variables `Age`, `Income`, and `Education level` in a dataset and interpret the results, we can use Python and libraries like NumPy and Pandas.**"
   ]
  },
  {
   "cell_type": "code",
   "execution_count": 223,
   "metadata": {},
   "outputs": [
    {
     "name": "stdout",
     "output_type": "stream",
     "text": [
      "Covariance Matrix:\n"
     ]
    },
    {
     "data": {
      "text/html": [
       "<div>\n",
       "<style scoped>\n",
       "    .dataframe tbody tr th:only-of-type {\n",
       "        vertical-align: middle;\n",
       "    }\n",
       "\n",
       "    .dataframe tbody tr th {\n",
       "        vertical-align: top;\n",
       "    }\n",
       "\n",
       "    .dataframe thead th {\n",
       "        text-align: right;\n",
       "    }\n",
       "</style>\n",
       "<table border=\"1\" class=\"dataframe\">\n",
       "  <thead>\n",
       "    <tr style=\"text-align: right;\">\n",
       "      <th></th>\n",
       "      <th>Age</th>\n",
       "      <th>Income</th>\n",
       "      <th>Education</th>\n",
       "    </tr>\n",
       "  </thead>\n",
       "  <tbody>\n",
       "    <tr>\n",
       "      <th>Age</th>\n",
       "      <td>35.3</td>\n",
       "      <td>82000.0</td>\n",
       "      <td>14.5</td>\n",
       "    </tr>\n",
       "    <tr>\n",
       "      <th>Income</th>\n",
       "      <td>82000.0</td>\n",
       "      <td>192500000.0</td>\n",
       "      <td>35000.0</td>\n",
       "    </tr>\n",
       "    <tr>\n",
       "      <th>Education</th>\n",
       "      <td>14.5</td>\n",
       "      <td>35000.0</td>\n",
       "      <td>10.0</td>\n",
       "    </tr>\n",
       "  </tbody>\n",
       "</table>\n",
       "</div>"
      ],
      "text/plain": [
       "               Age       Income  Education\n",
       "Age           35.3      82000.0       14.5\n",
       "Income     82000.0  192500000.0    35000.0\n",
       "Education     14.5      35000.0       10.0"
      ]
     },
     "metadata": {},
     "output_type": "display_data"
    }
   ],
   "source": [
    "import numpy as np\n",
    "import pandas as pd\n",
    "\n",
    "# Create a sample dataset\n",
    "data = {\n",
    "    'Age': [30, 35, 28, 40, 25],\n",
    "    'Income': [50000, 60000, 45000, 75000, 40000],\n",
    "    'Education': [12, 16, 10, 18, 14]\n",
    "}\n",
    "\n",
    "# Create a DataFrame from the dataset\n",
    "df = pd.DataFrame(data)\n",
    "\n",
    "# Calculate the covariance matrix\n",
    "cov_matrix = df.cov()\n",
    "\n",
    "# Print the covariance matrix\n",
    "print(\"Covariance Matrix:\")\n",
    "display(cov_matrix)\n"
   ]
  },
  {
   "cell_type": "markdown",
   "metadata": {},
   "source": [
    "**Interpretion of the results :-**\n",
    "\n",
    "-    **`Diagonal Elements` :** The diagonal elements of the covariance matrix represent the variance of each variable. In this case, the diagonal elements represent the variance of Age, Income, and Education level.\n",
    "\n",
    "-    **`Off-Diagonal Elements` :** The off-diagonal elements represent the covariances between pairs of variables. Positive values indicate a positive relationship (when one variable increases, the other tends to increase as well), while negative values indicate a negative relationship (when one variable increases, the other tends to decrease)."
   ]
  },
  {
   "cell_type": "markdown",
   "metadata": {},
   "source": [
    "Interpretation of specific values in the covariance matrix will depend on the actual data and context. If you provide the actual dataset, I can help with a more detailed interpretation."
   ]
  },
  {
   "cell_type": "markdown",
   "metadata": {},
   "source": [
    "---------------------------------------------------------------------------------------------------------------------------"
   ]
  },
  {
   "cell_type": "markdown",
   "metadata": {},
   "source": [
    "Q.No-06    You are working on a machine learning project with a dataset containing several categorical variables, including \"Gender\" (Male/Female), \"Education Level\" (High School/Bachelor's/Master's/PhD), and \"Employment Status\" (Unemployed/Part-Time/Full-Time). Which encoding method would you use for each variable, and why?"
   ]
  },
  {
   "cell_type": "markdown",
   "metadata": {},
   "source": [
    "Ans :-"
   ]
  },
  {
   "cell_type": "markdown",
   "metadata": {},
   "source": [
    "When working with categorical variables in a machine learning project, we typically need to convert them into numerical representations that can be used by machine learning algorithms. There are several encoding methods available, and the choice of method depends on the nature of the data and the machine learning algorithm we plan to use. "
   ]
  },
  {
   "cell_type": "markdown",
   "metadata": {},
   "source": [
    "**`Here's how we might encode each of the categorical variables you mentioned` :-**"
   ]
  },
  {
   "cell_type": "code",
   "execution_count": 224,
   "metadata": {},
   "outputs": [
    {
     "data": {
      "text/html": [
       "<div>\n",
       "<style scoped>\n",
       "    .dataframe tbody tr th:only-of-type {\n",
       "        vertical-align: middle;\n",
       "    }\n",
       "\n",
       "    .dataframe tbody tr th {\n",
       "        vertical-align: top;\n",
       "    }\n",
       "\n",
       "    .dataframe thead th {\n",
       "        text-align: right;\n",
       "    }\n",
       "</style>\n",
       "<table border=\"1\" class=\"dataframe\">\n",
       "  <thead>\n",
       "    <tr style=\"text-align: right;\">\n",
       "      <th></th>\n",
       "      <th>Gender</th>\n",
       "      <th>Education Level</th>\n",
       "      <th>Employment Status</th>\n",
       "    </tr>\n",
       "  </thead>\n",
       "  <tbody>\n",
       "    <tr>\n",
       "      <th>0</th>\n",
       "      <td>Male</td>\n",
       "      <td>High School</td>\n",
       "      <td>Unemployed</td>\n",
       "    </tr>\n",
       "    <tr>\n",
       "      <th>1</th>\n",
       "      <td>Female</td>\n",
       "      <td>Bachelor's</td>\n",
       "      <td>Part-Time</td>\n",
       "    </tr>\n",
       "    <tr>\n",
       "      <th>2</th>\n",
       "      <td>Male</td>\n",
       "      <td>Master's</td>\n",
       "      <td>Full-Time</td>\n",
       "    </tr>\n",
       "    <tr>\n",
       "      <th>3</th>\n",
       "      <td>Female</td>\n",
       "      <td>PhD</td>\n",
       "      <td>Part-Time</td>\n",
       "    </tr>\n",
       "  </tbody>\n",
       "</table>\n",
       "</div>"
      ],
      "text/plain": [
       "   Gender Education Level Employment Status\n",
       "0    Male     High School        Unemployed\n",
       "1  Female      Bachelor's         Part-Time\n",
       "2    Male        Master's         Full-Time\n",
       "3  Female             PhD         Part-Time"
      ]
     },
     "metadata": {},
     "output_type": "display_data"
    }
   ],
   "source": [
    "import pandas as pd\n",
    "from sklearn.preprocessing import LabelEncoder, OneHotEncoder\n",
    "\n",
    "# Sample data\n",
    "data = {\n",
    "    'Gender': ['Male', 'Female', 'Male', 'Female'],\n",
    "    'Education Level': ['High School', \"Bachelor's\", \"Master's\", 'PhD'],\n",
    "    'Employment Status': ['Unemployed', 'Part-Time', 'Full-Time', 'Part-Time']\n",
    "}\n",
    "# Create a DataFrame\n",
    "Q_No_06_df = pd.DataFrame(data)\n",
    "\n",
    "display(Q_No_06_df)\n"
   ]
  },
  {
   "cell_type": "markdown",
   "metadata": {},
   "source": [
    "1. **Gender (Binary Encoding):** Gender is a binary categorical variable (Male/Female), and binary encoding is a suitable method for such variables. We can represent it as 1 for Male and 0 for Female. This method is efficient and easy to interpret, and it works well with algorithms like logistic regression, decision trees, and random forests.\n",
    "\n",
    "   - Male: 1\n",
    "   \n",
    "   - Female: 0"
   ]
  },
  {
   "cell_type": "code",
   "execution_count": 225,
   "metadata": {},
   "outputs": [
    {
     "name": "stdout",
     "output_type": "stream",
     "text": [
      "Gender Label Encoder:\n"
     ]
    },
    {
     "data": {
      "text/html": [
       "<div>\n",
       "<style scoped>\n",
       "    .dataframe tbody tr th:only-of-type {\n",
       "        vertical-align: middle;\n",
       "    }\n",
       "\n",
       "    .dataframe tbody tr th {\n",
       "        vertical-align: top;\n",
       "    }\n",
       "\n",
       "    .dataframe thead th {\n",
       "        text-align: right;\n",
       "    }\n",
       "</style>\n",
       "<table border=\"1\" class=\"dataframe\">\n",
       "  <thead>\n",
       "    <tr style=\"text-align: right;\">\n",
       "      <th></th>\n",
       "      <th>Gender</th>\n",
       "      <th>Gender LabelEncoder</th>\n",
       "    </tr>\n",
       "  </thead>\n",
       "  <tbody>\n",
       "    <tr>\n",
       "      <th>0</th>\n",
       "      <td>Male</td>\n",
       "      <td>1</td>\n",
       "    </tr>\n",
       "    <tr>\n",
       "      <th>1</th>\n",
       "      <td>Female</td>\n",
       "      <td>0</td>\n",
       "    </tr>\n",
       "    <tr>\n",
       "      <th>2</th>\n",
       "      <td>Male</td>\n",
       "      <td>1</td>\n",
       "    </tr>\n",
       "    <tr>\n",
       "      <th>3</th>\n",
       "      <td>Female</td>\n",
       "      <td>0</td>\n",
       "    </tr>\n",
       "  </tbody>\n",
       "</table>\n",
       "</div>"
      ],
      "text/plain": [
       "   Gender  Gender LabelEncoder\n",
       "0    Male                    1\n",
       "1  Female                    0\n",
       "2    Male                    1\n",
       "3  Female                    0"
      ]
     },
     "metadata": {},
     "output_type": "display_data"
    }
   ],
   "source": [
    "# Encoding Gender using LabelEncoder (Binary Encoding)\n",
    "label_encoder = LabelEncoder()\n",
    "Q_No_06_Gender_df = pd.DataFrame({\n",
    "    \"Gender LabelEncoder\" : (label_encoder.fit_transform(Q_No_06_df['Gender']).tolist())\n",
    "    })\n",
    "\n",
    "# Concatenate the original 'Gender' column and the encoded 'Gender' column\n",
    "Gender_result_df = pd.concat([Q_No_06_df['Gender'], Q_No_06_Gender_df], axis=1)\n",
    "\n",
    "print(\"Gender Label Encoder:\")\n",
    "display(Gender_result_df)"
   ]
  },
  {
   "cell_type": "markdown",
   "metadata": {},
   "source": [
    "2. **Education Level (One-Hot Encoding):** Education Level is an ordinal categorical variable with multiple categories (High School, Bachelor's, Master's, PhD), and one-hot encoding is a common choice for such variables. Each category is transformed into a binary column, and a 1 is placed in the column corresponding to the education level of the individual, while all other columns get a 0. This approach allows the algorithm to treat each category independently.\n",
    "\n",
    "   - High School: [1, 0, 0, 0]\n",
    "\n",
    "   - Bachelor's: [0, 1, 0, 0]\n",
    "   \n",
    "   - Master's: [0, 0, 1, 0]\n",
    "   \n",
    "   - PhD: [0, 0, 0, 1]"
   ]
  },
  {
   "cell_type": "code",
   "execution_count": 226,
   "metadata": {},
   "outputs": [
    {
     "name": "stdout",
     "output_type": "stream",
     "text": [
      "Encoded DataFrame with One-Hot Encoding for Education Level:\n"
     ]
    },
    {
     "data": {
      "text/html": [
       "<div>\n",
       "<style scoped>\n",
       "    .dataframe tbody tr th:only-of-type {\n",
       "        vertical-align: middle;\n",
       "    }\n",
       "\n",
       "    .dataframe tbody tr th {\n",
       "        vertical-align: top;\n",
       "    }\n",
       "\n",
       "    .dataframe thead th {\n",
       "        text-align: right;\n",
       "    }\n",
       "</style>\n",
       "<table border=\"1\" class=\"dataframe\">\n",
       "  <thead>\n",
       "    <tr style=\"text-align: right;\">\n",
       "      <th></th>\n",
       "      <th>Education Level</th>\n",
       "      <th>Education_High School</th>\n",
       "      <th>Education_Bachelor's</th>\n",
       "      <th>Education_Master's</th>\n",
       "      <th>Education_PhD</th>\n",
       "    </tr>\n",
       "  </thead>\n",
       "  <tbody>\n",
       "    <tr>\n",
       "      <th>0</th>\n",
       "      <td>High School</td>\n",
       "      <td>1</td>\n",
       "      <td>0</td>\n",
       "      <td>0</td>\n",
       "      <td>0</td>\n",
       "    </tr>\n",
       "    <tr>\n",
       "      <th>1</th>\n",
       "      <td>Bachelor's</td>\n",
       "      <td>0</td>\n",
       "      <td>1</td>\n",
       "      <td>0</td>\n",
       "      <td>0</td>\n",
       "    </tr>\n",
       "    <tr>\n",
       "      <th>2</th>\n",
       "      <td>Master's</td>\n",
       "      <td>0</td>\n",
       "      <td>0</td>\n",
       "      <td>1</td>\n",
       "      <td>0</td>\n",
       "    </tr>\n",
       "    <tr>\n",
       "      <th>3</th>\n",
       "      <td>PhD</td>\n",
       "      <td>0</td>\n",
       "      <td>0</td>\n",
       "      <td>0</td>\n",
       "      <td>1</td>\n",
       "    </tr>\n",
       "  </tbody>\n",
       "</table>\n",
       "</div>"
      ],
      "text/plain": [
       "  Education Level  Education_High School  Education_Bachelor's  \\\n",
       "0     High School                      1                     0   \n",
       "1      Bachelor's                      0                     1   \n",
       "2        Master's                      0                     0   \n",
       "3             PhD                      0                     0   \n",
       "\n",
       "   Education_Master's  Education_PhD  \n",
       "0                   0              0  \n",
       "1                   0              0  \n",
       "2                   1              0  \n",
       "3                   0              1  "
      ]
     },
     "metadata": {},
     "output_type": "display_data"
    }
   ],
   "source": [
    "# Encoding Education Level using One-Hot Encoding\n",
    "education_encoded = pd.get_dummies(Q_No_06_df['Education Level'], prefix='Education')\n",
    "\n",
    "# Concatenate the original DataFrame and the one-hot encoded DataFrame\n",
    "Q_No_06_df_encoded = pd.concat([Q_No_06_df['Education Level'], education_encoded], axis=1)\n",
    "\n",
    "# Replace True with 1 and False with 0\n",
    "Q_No_06_df_encoded = Q_No_06_df_encoded.replace({True: 1, False: 0})\n",
    "\n",
    "# Get the column you want to move\n",
    "bachelors_col = Q_No_06_df_encoded.pop(\"Education_Bachelor's\")\n",
    "\n",
    "# Insert the column at the desired position (3rd column)\n",
    "Q_No_06_df_encoded.insert(2, \"Education_Bachelor's\", bachelors_col)\n",
    "\n",
    "print(\"Encoded DataFrame with One-Hot Encoding for Education Level:\")\n",
    "display(Q_No_06_df_encoded)"
   ]
  },
  {
   "cell_type": "markdown",
   "metadata": {},
   "source": [
    "3. **Employment Status (Label Encoding or Ordinal Encoding):** Employment Status is an ordinal categorical variable (Unemployed, Part-Time, Full-Time). Ordinal encoding, which assigns a unique integer to each category based on its order or importance, can be used for this variable. The order of encoding should reflect the logical order of the categories.\n",
    "\n",
    "   - Unemployed: 0\n",
    "\n",
    "   - Part-Time: 1\n",
    "   \n",
    "   - Full-Time: 2"
   ]
  },
  {
   "cell_type": "code",
   "execution_count": 227,
   "metadata": {},
   "outputs": [
    {
     "name": "stdout",
     "output_type": "stream",
     "text": [
      "Employment Status Label Encoder (Ordinal Encoding) :-\n"
     ]
    },
    {
     "data": {
      "text/html": [
       "<div>\n",
       "<style scoped>\n",
       "    .dataframe tbody tr th:only-of-type {\n",
       "        vertical-align: middle;\n",
       "    }\n",
       "\n",
       "    .dataframe tbody tr th {\n",
       "        vertical-align: top;\n",
       "    }\n",
       "\n",
       "    .dataframe thead th {\n",
       "        text-align: right;\n",
       "    }\n",
       "</style>\n",
       "<table border=\"1\" class=\"dataframe\">\n",
       "  <thead>\n",
       "    <tr style=\"text-align: right;\">\n",
       "      <th></th>\n",
       "      <th>Employment Status</th>\n",
       "      <th>Employment Status</th>\n",
       "    </tr>\n",
       "  </thead>\n",
       "  <tbody>\n",
       "    <tr>\n",
       "      <th>0</th>\n",
       "      <td>Unemployed</td>\n",
       "      <td>0</td>\n",
       "    </tr>\n",
       "    <tr>\n",
       "      <th>1</th>\n",
       "      <td>Part-Time</td>\n",
       "      <td>1</td>\n",
       "    </tr>\n",
       "    <tr>\n",
       "      <th>2</th>\n",
       "      <td>Full-Time</td>\n",
       "      <td>2</td>\n",
       "    </tr>\n",
       "    <tr>\n",
       "      <th>3</th>\n",
       "      <td>Part-Time</td>\n",
       "      <td>1</td>\n",
       "    </tr>\n",
       "  </tbody>\n",
       "</table>\n",
       "</div>"
      ],
      "text/plain": [
       "   Employment Status  Employment Status\n",
       "0         Unemployed                  0\n",
       "1          Part-Time                  1\n",
       "2          Full-Time                  2\n",
       "3          Part-Time                  1"
      ]
     },
     "metadata": {},
     "output_type": "display_data"
    }
   ],
   "source": [
    "# Encoding Employment Status using LabelEncoder (Ordinal Encoding)\n",
    "ordinal_mapping = {\n",
    "    'Unemployed': 0,\n",
    "    'Part-Time': 1,\n",
    "    'Full-Time': 2\n",
    "    }\n",
    "\n",
    "Q_No_06_Employment_Status_df = pd.DataFrame({\n",
    "    \"Employment Status\" : (Q_No_06_df['Employment Status'].map(ordinal_mapping))\n",
    "})\n",
    "\n",
    "# Concatenate the original 'Gender' column and the encoded 'Gender' column\n",
    "Employment_Status_result_df = pd.concat([Q_No_06_df['Employment Status'], Q_No_06_Employment_Status_df], axis=1)\n",
    "\n",
    "print(\"Employment Status Label Encoder (Ordinal Encoding) :-\")\n",
    "display(Employment_Status_result_df)"
   ]
  },
  {
   "cell_type": "markdown",
   "metadata": {},
   "source": [
    "**It's important to choose the encoding method carefully based on the characteristics of your data and the machine learning model you plan to use.**"
   ]
  },
  {
   "cell_type": "markdown",
   "metadata": {},
   "source": [
    "**`For example` :-**\n",
    "\n",
    "- If you use one-hot encoding for Gender or Education Level, it can lead to increased dimensionality, which may be a concern if you have many categories or limited data.\n",
    "\n",
    "- If you use label encoding for Education Level, you assume a meaningful order between the categories, which may not always be the case (e.g., Master's vs. PhD).\n",
    "\n",
    "- Ensure that the encoding method aligns with the assumptions of the machine learning algorithm you plan to use. Some algorithms may require specific encoding methods or preprocessing steps."
   ]
  },
  {
   "cell_type": "markdown",
   "metadata": {},
   "source": [
    "---------------------------------------------------------------------------------------------------------------------------"
   ]
  },
  {
   "cell_type": "markdown",
   "metadata": {},
   "source": [
    "Q.No-07    You are analyzing a dataset with two continuous variables, \"Temperature\" and \"Humidity\", and two categorical variables, \"Weather Condition\" (Sunny/Cloudy/Rainy) and \"Wind Direction\" (North/South/East/West). Calculate the covariance between each pair of variables and interpret the results."
   ]
  },
  {
   "cell_type": "markdown",
   "metadata": {},
   "source": [
    "Ans :-"
   ]
  },
  {
   "cell_type": "markdown",
   "metadata": {},
   "source": [
    "**To calculate `the covariance between pairs of variables`, we can use the following formula :-**\n",
    "\n",
    "$$Cov(X, Y) = \\frac{Σ [(Xi - X̄) * (Yi - Ȳ)]}{(n - 1)}$$"
   ]
  },
  {
   "cell_type": "markdown",
   "metadata": {},
   "source": [
    "**Where :-**\n",
    "\n",
    "- $Cov(X, Y)$ is the covariance between variables $X$ and $Y$.\n",
    "\n",
    "- $Xi$ and $Yi$ are individual data points from the datasets of $X$ and $Y$.\n",
    "\n",
    "- $X̄$ and $Ȳ$ are the means of $X$ and $Y$, respectively.\n",
    "\n",
    "- $n$ is the number of data points."
   ]
  },
  {
   "cell_type": "code",
   "execution_count": 228,
   "metadata": {},
   "outputs": [
    {
     "data": {
      "text/html": [
       "<div>\n",
       "<style scoped>\n",
       "    .dataframe tbody tr th:only-of-type {\n",
       "        vertical-align: middle;\n",
       "    }\n",
       "\n",
       "    .dataframe tbody tr th {\n",
       "        vertical-align: top;\n",
       "    }\n",
       "\n",
       "    .dataframe thead th {\n",
       "        text-align: right;\n",
       "    }\n",
       "</style>\n",
       "<table border=\"1\" class=\"dataframe\">\n",
       "  <thead>\n",
       "    <tr style=\"text-align: right;\">\n",
       "      <th></th>\n",
       "      <th>Temperature</th>\n",
       "      <th>Humidity</th>\n",
       "      <th>Weather Condition</th>\n",
       "      <th>Wind Direction</th>\n",
       "      <th>Weather Condition (Label Encoding)</th>\n",
       "      <th>Wind Direction (Label Encoding)</th>\n",
       "    </tr>\n",
       "  </thead>\n",
       "  <tbody>\n",
       "    <tr>\n",
       "      <th>0</th>\n",
       "      <td>25</td>\n",
       "      <td>60</td>\n",
       "      <td>Sunny</td>\n",
       "      <td>North</td>\n",
       "      <td>0</td>\n",
       "      <td>0</td>\n",
       "    </tr>\n",
       "    <tr>\n",
       "      <th>1</th>\n",
       "      <td>30</td>\n",
       "      <td>55</td>\n",
       "      <td>Cloudy</td>\n",
       "      <td>South</td>\n",
       "      <td>1</td>\n",
       "      <td>1</td>\n",
       "    </tr>\n",
       "    <tr>\n",
       "      <th>2</th>\n",
       "      <td>22</td>\n",
       "      <td>70</td>\n",
       "      <td>Rainy</td>\n",
       "      <td>East</td>\n",
       "      <td>2</td>\n",
       "      <td>2</td>\n",
       "    </tr>\n",
       "    <tr>\n",
       "      <th>3</th>\n",
       "      <td>28</td>\n",
       "      <td>45</td>\n",
       "      <td>Sunny</td>\n",
       "      <td>West</td>\n",
       "      <td>0</td>\n",
       "      <td>3</td>\n",
       "    </tr>\n",
       "    <tr>\n",
       "      <th>4</th>\n",
       "      <td>32</td>\n",
       "      <td>50</td>\n",
       "      <td>Rainy</td>\n",
       "      <td>North</td>\n",
       "      <td>2</td>\n",
       "      <td>0</td>\n",
       "    </tr>\n",
       "  </tbody>\n",
       "</table>\n",
       "</div>"
      ],
      "text/plain": [
       "   Temperature  Humidity Weather Condition Wind Direction  \\\n",
       "0           25        60             Sunny          North   \n",
       "1           30        55            Cloudy          South   \n",
       "2           22        70             Rainy           East   \n",
       "3           28        45             Sunny           West   \n",
       "4           32        50             Rainy          North   \n",
       "\n",
       "   Weather Condition (Label Encoding)  Wind Direction (Label Encoding)  \n",
       "0                                   0                                0  \n",
       "1                                   1                                1  \n",
       "2                                   2                                2  \n",
       "3                                   0                                3  \n",
       "4                                   2                                0  "
      ]
     },
     "metadata": {},
     "output_type": "display_data"
    }
   ],
   "source": [
    "import numpy as np\n",
    "import pandas as pd\n",
    "\n",
    "# Sample data (replace this with your actual dataset)\n",
    "data = {\n",
    "    'Temperature': [25, 30, 22, 28, 32],\n",
    "    'Humidity': [60, 55, 70, 45, 50],\n",
    "    'Weather Condition': ['Sunny', 'Cloudy', 'Rainy', 'Sunny', 'Rainy'],\n",
    "    'Wind Direction': ['North', 'South', 'East', 'West', 'North']\n",
    "}\n",
    "\n",
    "# Create a DataFrame\n",
    "Q_No_07_df = pd.DataFrame(data)\n",
    "\n",
    "\n",
    "# Since \"Weather Condition\" is a categorical variable, we need to convert it to a numerical format\n",
    "weather_mapping = {'Sunny': 0, 'Cloudy': 1, 'Rainy': 2}\n",
    "Q_No_07_df['Weather Condition (Label Encoding)'] = Q_No_07_df['Weather Condition'].map(weather_mapping)\n",
    "\n",
    "# Similarly, you'll need to convert \"Wind Direction\" to a numerical format\n",
    "wind_mapping = {'North': 0, 'South': 1, 'East': 2, 'West': 3}\n",
    "Q_No_07_df['Wind Direction (Label Encoding)'] = Q_No_07_df['Wind Direction'].map(wind_mapping)\n",
    "\n",
    "display(Q_No_07_df)\n"
   ]
  },
  {
   "cell_type": "markdown",
   "metadata": {},
   "source": [
    "**`Let's calculate the covariances between the variables` :-**"
   ]
  },
  {
   "cell_type": "markdown",
   "metadata": {},
   "source": [
    "1. **Covariance between \"`Temperature`\" and \"`Humidity`\" :**"
   ]
  },
  {
   "cell_type": "code",
   "execution_count": 229,
   "metadata": {},
   "outputs": [
    {
     "name": "stdout",
     "output_type": "stream",
     "text": [
      "Covariance between Temperature and Humidity: -30.50\n"
     ]
    }
   ],
   "source": [
    "# Calculate the covariance between \"Temperature\" and \"Humidity\"\n",
    "cov_temp_humidity = Q_No_07_df['Temperature'].cov(Q_No_07_df['Humidity'])\n",
    "print(f\"Covariance between Temperature and Humidity: {cov_temp_humidity:.2f}\")"
   ]
  },
  {
   "cell_type": "markdown",
   "metadata": {},
   "source": [
    "**`Based on the calculate covariance values and the principles of interpreting covariances`,**\n",
    "\n",
    "   - **here's a Interpretation of the results -**\n",
    "\n",
    "      - The negative covariance suggests that as temperature tends to increase, humidity tends to decrease, and vice versa.\n",
    "   \n",
    "      - The magnitude of -30.50 indicates a relatively strong linear relationship between temperature and humidity. However, it's important to remember that this value is sensitive to the scales of the variables."
   ]
  },
  {
   "cell_type": "markdown",
   "metadata": {},
   "source": [
    "2. **Covariance between \"`Temperature`\" and \"`Weather Condition`\" :**"
   ]
  },
  {
   "cell_type": "code",
   "execution_count": 230,
   "metadata": {},
   "outputs": [
    {
     "name": "stdout",
     "output_type": "stream",
     "text": [
      "Covariance between Temperature and Weather Condition: 0.25\n"
     ]
    }
   ],
   "source": [
    "# Calculate the covariance between \"Temperature\" and \"Weather Condition\"\n",
    "cov_temp_weather = Q_No_07_df['Temperature'].cov(Q_No_07_df['Weather Condition (Label Encoding)'])\n",
    "print(\"Covariance between Temperature and Weather Condition:\", cov_temp_weather)"
   ]
  },
  {
   "cell_type": "markdown",
   "metadata": {},
   "source": [
    "**`Based on the calculate covariance values and the principles of interpreting covariances`,**\n",
    "\n",
    "   - **here's a Interpretation of the results -**\n",
    "\n",
    "      - The positive covariance indicates that there is a tendency for temperature and weather condition to increase together, though the relationship appears to be weak.\n",
    "      \n",
    "      - The value of 0.25 is relatively close to zero, suggesting that there is little to no strong linear relationship between temperature and weather condition based on this covariance.\n"
   ]
  },
  {
   "cell_type": "markdown",
   "metadata": {},
   "source": [
    "3. **Covariance between \"`Temperature`\" and \"`Wind Direction`\" :**"
   ]
  },
  {
   "cell_type": "code",
   "execution_count": 231,
   "metadata": {},
   "outputs": [
    {
     "name": "stdout",
     "output_type": "stream",
     "text": [
      "Covariance between Temperature and Wind Direction: -1.6\n"
     ]
    }
   ],
   "source": [
    "# Calculate the covariance between \"Temperature\" and \"Wind Direction\"\n",
    "cov_temp_wind = Q_No_07_df['Temperature'].cov(Q_No_07_df['Wind Direction (Label Encoding)'])\n",
    "print(\"Covariance between Temperature and Wind Direction:\", cov_temp_wind)"
   ]
  },
  {
   "cell_type": "markdown",
   "metadata": {},
   "source": [
    "**`Based on the calculate covariance values and the principles of interpreting covariances`,**\n",
    "\n",
    "   - **here's a Interpretation of the results -**\n",
    "\n",
    "      - The negative covariance suggests that as temperature increases, wind direction tends to decrease, and vice versa.\n",
    "      \n",
    "      - The magnitude of -1.6 indicates a relatively weak linear relationship between temperature and wind direction."
   ]
  },
  {
   "cell_type": "markdown",
   "metadata": {},
   "source": [
    "4. **Covariance between \"`Humidity`\" and \"`Weather Condition`\" :**"
   ]
  },
  {
   "cell_type": "code",
   "execution_count": 232,
   "metadata": {},
   "outputs": [
    {
     "name": "stdout",
     "output_type": "stream",
     "text": [
      "Covariance between Humidity and Weather Condition: 3.75\n"
     ]
    }
   ],
   "source": [
    "# Calculate the covariance between \"Humidity\" and \"Weather Condition\"\n",
    "cov_humidity_weather = Q_No_07_df['Humidity'].cov(Q_No_07_df['Weather Condition (Label Encoding)'])\n",
    "print(\"Covariance between Humidity and Weather Condition:\", cov_humidity_weather)"
   ]
  },
  {
   "cell_type": "markdown",
   "metadata": {},
   "source": [
    "**`Based on the calculate covariance values and the principles of interpreting covariances`,**\n",
    "\n",
    "   - **here's a Interpretation of the results -**\n",
    "\n",
    "      - The positive covariance indicates that there is a tendency for humidity and weather condition to increase together, suggesting a positive relationship.\n",
    "      \n",
    "      - The value of 3.75 is moderately positive, indicating a moderate linear relationship between humidity and weather condition."
   ]
  },
  {
   "cell_type": "markdown",
   "metadata": {},
   "source": [
    "5. **Covariance between \"`Humidity`\" and \"`Wind Direction`\" :**"
   ]
  },
  {
   "cell_type": "code",
   "execution_count": 233,
   "metadata": {},
   "outputs": [
    {
     "name": "stdout",
     "output_type": "stream",
     "text": [
      "Covariance between Humidity and Wind Direction: -1.5\n"
     ]
    }
   ],
   "source": [
    "# Calculate the covariance between \"Humidity\" and \"Wind Direction\"\n",
    "cov_humidity_wind = Q_No_07_df['Humidity'].cov(Q_No_07_df['Wind Direction (Label Encoding)'])\n",
    "print(\"Covariance between Humidity and Wind Direction:\", cov_humidity_wind)"
   ]
  },
  {
   "cell_type": "markdown",
   "metadata": {},
   "source": [
    "**`Based on the calculate covariance values and the principles of interpreting covariances`,**\n",
    "\n",
    "   - **here's a Interpretation of the results -**\n",
    "\n",
    "      - The negative covariance suggests that as humidity increases, wind direction tends to decrease, and vice versa.\n",
    "   \n",
    "      - The magnitude of -1.5 indicates a relatively weak linear relationship between humidity and wind direction."
   ]
  },
  {
   "cell_type": "markdown",
   "metadata": {},
   "source": [
    "It's important to emphasize that covariance values are not standardized and are influenced by the scales of the variables. To better understand the strength and direction of these relationships while accounting for scale, it may be more useful to calculate and examine correlation coefficients. Correlation coefficients range from -1 to 1, with -1 indicating a perfect negative linear relationship, 1 indicating a perfect positive linear relationship, and 0 indicating no linear relationship."
   ]
  },
  {
   "cell_type": "markdown",
   "metadata": {},
   "source": [
    "                                        END"
   ]
  }
 ],
 "metadata": {
  "kernelspec": {
   "display_name": "Python 3",
   "language": "python",
   "name": "python3"
  },
  "language_info": {
   "codemirror_mode": {
    "name": "ipython",
    "version": 3
   },
   "file_extension": ".py",
   "mimetype": "text/x-python",
   "name": "python",
   "nbconvert_exporter": "python",
   "pygments_lexer": "ipython3",
   "version": "3.9.13"
  },
  "orig_nbformat": 4
 },
 "nbformat": 4,
 "nbformat_minor": 2
}
